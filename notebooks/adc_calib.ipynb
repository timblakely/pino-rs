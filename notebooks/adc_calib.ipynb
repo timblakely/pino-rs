{
 "cells": [
  {
   "cell_type": "code",
   "execution_count": 2,
   "source": [
    "import numpy as np\n",
    "import matplotlib.pyplot as plt"
   ],
   "outputs": [],
   "metadata": {}
  },
  {
   "cell_type": "code",
   "execution_count": 1,
   "source": [
    "data = np.array([\n",
    "  [23.0,0x6e8],\n",
    "  [22.9,0x6df],\n",
    "  [24,0x733],\n",
    "  [25.1,0x787],\n",
    "  [24.7,0x769],\n",
    "  [21.0,0x64d],\n",
    "  [19.6,0x5e4],\n",
    "])\n",
    "\n",
    "data = np.sort(data, axis=0)\n",
    "plt.plot(data[:,0], data[:,1])\n",
    "\n",
    "A = np.vstack([data[:,0], np.ones(len(data))]).T\n",
    "slope, yint = np.linalg.lstsq(A, data[:,1], rcond=-1)[0]\n",
    "\n",
    "print(f'Slope: {slope} Offset: {yint}')"
   ],
   "outputs": [
    {
     "output_type": "error",
     "ename": "NameError",
     "evalue": "name 'np' is not defined",
     "traceback": [
      "\u001b[0;31m---------------------------------------------------------------------------\u001b[0m",
      "\u001b[0;31mNameError\u001b[0m                                 Traceback (most recent call last)",
      "\u001b[0;32m/tmp/ipykernel_349230/1732680588.py\u001b[0m in \u001b[0;36m<module>\u001b[0;34m\u001b[0m\n\u001b[0;32m----> 1\u001b[0;31m data = np.array([\n\u001b[0m\u001b[1;32m      2\u001b[0m   \u001b[0;34m[\u001b[0m\u001b[0;36m23.0\u001b[0m\u001b[0;34m,\u001b[0m\u001b[0;36m0x6e8\u001b[0m\u001b[0;34m]\u001b[0m\u001b[0;34m,\u001b[0m\u001b[0;34m\u001b[0m\u001b[0;34m\u001b[0m\u001b[0m\n\u001b[1;32m      3\u001b[0m   \u001b[0;34m[\u001b[0m\u001b[0;36m22.9\u001b[0m\u001b[0;34m,\u001b[0m\u001b[0;36m0x6df\u001b[0m\u001b[0;34m]\u001b[0m\u001b[0;34m,\u001b[0m\u001b[0;34m\u001b[0m\u001b[0;34m\u001b[0m\u001b[0m\n\u001b[1;32m      4\u001b[0m   \u001b[0;34m[\u001b[0m\u001b[0;36m24\u001b[0m\u001b[0;34m,\u001b[0m\u001b[0;36m0x733\u001b[0m\u001b[0;34m]\u001b[0m\u001b[0;34m,\u001b[0m\u001b[0;34m\u001b[0m\u001b[0;34m\u001b[0m\u001b[0m\n\u001b[1;32m      5\u001b[0m   \u001b[0;34m[\u001b[0m\u001b[0;36m25.1\u001b[0m\u001b[0;34m,\u001b[0m\u001b[0;36m0x787\u001b[0m\u001b[0;34m]\u001b[0m\u001b[0;34m,\u001b[0m\u001b[0;34m\u001b[0m\u001b[0;34m\u001b[0m\u001b[0m\n",
      "\u001b[0;31mNameError\u001b[0m: name 'np' is not defined"
     ]
    }
   ],
   "metadata": {}
  },
  {
   "cell_type": "code",
   "execution_count": 70,
   "source": [
    "adc_data = 0x82D\n",
    "vri_data = 0x5dF\n",
    "drv_gain = 40\n",
    "\n",
    "# Below are \"hardcoded\", either via ROM programming or hardware.\n",
    "\n",
    "vr_c = 3.0\n",
    "vri_c = 0x67b\n",
    "full_scale = 4096\n",
    "\n",
    "drv_v_ref = 3.3\n",
    "r_sense = 0.001\n",
    "\n",
    "print('Based on Vref@3.3V:')\n",
    "vout = 3.3 * adc_data/full_scale\n",
    "print(f'  ADC: {vout}')\n",
    "current = ((drv_v_ref/2) - vout)/(drv_gain*r_sense)\n",
    "print(f'  Current: {current}A')\n",
    "\n",
    "print('Based on Vrefint:')\n",
    "vout = (vr_c * vri_c * adc_data) / (vri_data * full_scale)\n",
    "print(f'  ADC: {vout}')\n",
    "current = ((drv_v_ref/2) - vout)/(drv_gain*r_sense)\n",
    "print(f'  Current: {current}A')"
   ],
   "outputs": [
    {
     "output_type": "stream",
     "name": "stdout",
     "text": [
      "Based on Vref:\n",
      "  ADC: 1.6862548828125\n",
      "  Current: -0.9063720703125A\n",
      "Based on Vrefint:\n",
      "  ADC: 1.6920684997193114\n",
      "  Current: -1.051712492982787A\n"
     ]
    }
   ],
   "metadata": {}
  },
  {
   "cell_type": "code",
   "execution_count": 80,
   "source": [
    "timer_ccr = 40\n",
    "timer_arr = 2125\n",
    "\n",
    "pulse_ns = 328\n",
    "freq_loop = 40e3\n",
    "\n",
    "# Below are \"hardcoded\", either via ROM programming or hardware.\n",
    "\n",
    "v_rail = 24\n",
    "\n",
    "duty_cycle_requested = timer_ccr / timer_arr\n",
    "duty_cycle_measured = pulse_ns / (1/freq_loop*1e9)\n",
    "\n",
    "print(f'Duty cycle:\\n  requested:{duty_cycle_requested*100:.2f}%\\n  measured: {duty_cycle_measured*100:.2f}%')\n",
    "\n",
    "v_rms_requested = v_rail * np.sqrt(duty_cycle_requested)\n",
    "v_rms_measured = v_rail * np.sqrt(duty_cycle_measured)\n",
    "\n",
    "print(f'V_rms:\\n  requested:{v_rms_requested:.4f}V\\n  measured: {v_rms_measured:.4f}V')\n",
    "\n",
    "v_dc_requested = v_rail * duty_cycle_requested\n",
    "v_dc_measured = v_rail * duty_cycle_measured\n",
    "\n",
    "print(f'V_dc:\\n  {v_dc_requested:.4f}V\\n  {v_dc_measured:.4f}V')\n",
    "\n",
    "r_phase_requested = v_dc_requested / np.abs(current)\n",
    "r_phase_measured = v_dc_measured / np.abs(current)\n",
    "\n",
    "print(f'Estimated winding resistance:\\n  requested: {r_phase_requested*1000/1.5:.3f} mOhm\\n  measured: {r_phase_measured*1000/1.5:.3f} mOhm')\n"
   ],
   "outputs": [
    {
     "output_type": "stream",
     "name": "stdout",
     "text": [
      "Duty cycle:\n",
      "  requested:1.88%\n",
      "  measured: 1.31%\n",
      "V_rms:\n",
      "  requested:3.2928V\n",
      "  measured: 2.7490V\n",
      "V_dc:\n",
      "  0.4518V\n",
      "  0.3149V\n",
      "Estimated winding resistance:\n",
      "  requested: 286.368 mOhm\n",
      "  measured: 199.598 mOhm\n"
     ]
    }
   ],
   "metadata": {}
  }
 ],
 "metadata": {
  "orig_nbformat": 4,
  "language_info": {
   "name": "python",
   "version": "3.9.1+",
   "mimetype": "text/x-python",
   "codemirror_mode": {
    "name": "ipython",
    "version": 3
   },
   "pygments_lexer": "ipython3",
   "nbconvert_exporter": "python",
   "file_extension": ".py"
  },
  "kernelspec": {
   "name": "python3",
   "display_name": "Python 3.9.1 64-bit"
  },
  "interpreter": {
   "hash": "916dbcbb3f70747c44a77c7bcd40155683ae19c65e1c03b4aa3499c5328201f1"
  }
 },
 "nbformat": 4,
 "nbformat_minor": 2
}