{
 "cells": [
  {
   "cell_type": "code",
   "execution_count": 69,
   "source": [
    "import struct\n",
    "debug_data= [1337, -21.7, 0, 3, 1, 4]\n",
    "# packed = struct.pack(\"LfBBBB\", *debug_data)\n",
    "packed = struct.pack(\">LfBBBB\", *debug_data) # Wire format\n",
    "# packed = struct.pack(\"BBBB\", 0, 3, 1, 4)\n",
    "print(packed)\n",
    "print(packed.hex())\n",
    "print(f'{len(packed)} {packed.hex()}')\n",
    "print('_'.join(packed.hex()[x:x+8] for x in range(0, len(packed.hex()), 8)))\n",
    "\n",
    "print(struct.pack(\"LfBBBB\", *debug_data).hex())\n",
    "print(struct.pack(\"<LfBBBB\", *debug_data).hex())\n",
    "print(struct.pack(\"=LfBBBB\", *debug_data).hex())"
   ],
   "outputs": [
    {
     "output_type": "stream",
     "name": "stdout",
     "text": [
      "b'\\x00\\x00\\x059\\xc1\\xad\\x99\\x9a\\x00\\x03\\x01\\x04'\n",
      "00000539c1ad999a00030104\n",
      "12 00000539c1ad999a00030104\n",
      "00000539_c1ad999a_00030104\n",
      "39050000000000009a99adc100030104\n",
      "390500009a99adc100030104\n",
      "390500009a99adc100030104\n"
     ]
    }
   ],
   "metadata": {}
  },
  {
   "cell_type": "markdown",
   "source": [
    "struct.pack('LLLL', 1337, 0, 3249379738, 67175168).hex()"
   ],
   "metadata": {}
  },
  {
   "cell_type": "code",
   "execution_count": 85,
   "source": [
    "import struct\n",
    "import serial\n",
    "import time\n",
    "\n",
    "debug_data= [1337, -17.7, 0, 3, 1, 4]\n",
    "\n",
    "packet = struct.pack(\"<LfBBBB\", *debug_data).hex()\n",
    "cmd = f'can ext A {packet} BFr\\n'\n",
    "print(cmd)\n",
    "print(cmd.encode())\n",
    "print(b'can ext A 00000539c1ad999a00030104 BFr\\n')\n",
    "with serial.Serial('/dev/fdcanusb') as ser:\n",
    "  print(ser.is_open)\n",
    "  ser.write(cmd.encode())\n",
    "  # ser.write(b'can ext A 00000539c1ad999a00030104 BFr\\n')\n",
    "  # ser.write(b'can ext A 00000539 BFr\\n')\n",
    "  time.sleep(1)\n",
    "  print(ser.read_all())"
   ],
   "outputs": [
    {
     "output_type": "stream",
     "name": "stdout",
     "text": [
      "can ext A 390500009a998dc100030104 BFr\n",
      "\n",
      "b'can ext A 390500009a998dc100030104 BFr\\n'\n",
      "b'can ext A 00000539c1ad999a00030104 BFr\\n'\n",
      "True\n",
      "b'OK\\r\\n'\n"
     ]
    }
   ],
   "metadata": {}
  },
  {
   "cell_type": "code",
   "execution_count": 17,
   "source": [
    "ser.close()"
   ],
   "outputs": [],
   "metadata": {}
  },
  {
   "cell_type": "code",
   "execution_count": 25,
   "source": [
    "int('0x539', 16)"
   ],
   "outputs": [
    {
     "output_type": "execute_result",
     "data": {
      "text/plain": [
       "1337"
      ]
     },
     "metadata": {},
     "execution_count": 25
    }
   ],
   "metadata": {}
  },
  {
   "cell_type": "code",
   "execution_count": 42,
   "source": [
    "expected = int(\"1100000000110101101100110011001100110011001100110011001100110011\", 2)\n",
    "print(expected)\n",
    "print(f'{expected: x}')\n",
    "print(int('c035b33333333333', 16))\n",
    "print(struct.pack('f', -21.7))\n",
    "print(struct.pack('f', -21.7).hex())"
   ],
   "outputs": [
    {
     "output_type": "stream",
     "name": "stdout",
     "text": [
      "13850173261531525939\n",
      " c035b33333333333\n",
      "13850173261531525939\n",
      "b'\\x9a\\x99\\xad\\xc1'\n",
      "9a99adc1\n"
     ]
    }
   ],
   "metadata": {}
  },
  {
   "cell_type": "code",
   "execution_count": 60,
   "source": [
    "print(f'{3249379738:x}')\n",
    "\n",
    "0x4000a4b8\n"
   ],
   "outputs": [
    {
     "output_type": "stream",
     "name": "stdout",
     "text": [
      "c1ad999a\n"
     ]
    }
   ],
   "metadata": {}
  }
 ],
 "metadata": {
  "orig_nbformat": 4,
  "language_info": {
   "name": "python",
   "version": "3.9.1+",
   "mimetype": "text/x-python",
   "codemirror_mode": {
    "name": "ipython",
    "version": 3
   },
   "pygments_lexer": "ipython3",
   "nbconvert_exporter": "python",
   "file_extension": ".py"
  },
  "kernelspec": {
   "name": "python3",
   "display_name": "Python 3.9.1 64-bit"
  },
  "interpreter": {
   "hash": "916dbcbb3f70747c44a77c7bcd40155683ae19c65e1c03b4aa3499c5328201f1"
  }
 },
 "nbformat": 4,
 "nbformat_minor": 2
}